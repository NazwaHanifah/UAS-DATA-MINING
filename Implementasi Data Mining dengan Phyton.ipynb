{
 "cells": [
  {
   "cell_type": "markdown",
   "id": "7eff9bbf-b3ce-4be3-89f3-439558767e90",
   "metadata": {},
   "source": [
    "# Visualisasi Data Sederhana dari File Excel dengan Matplotlib dan Pandas\n",
    "\n",
    "Notebook ini menunjukkan cara memuat data dari file Excel dan memvisualisasikan data tersebut menggunakan Matplotlib dan Pandas. Kami akan membuat grafik batang dari data contoh.\n"
   ]
  },
  {
   "cell_type": "code",
   "execution_count": null,
   "id": "11213c38-d407-454d-b3b1-0b2fd5c65273",
   "metadata": {},
   "outputs": [],
   "source": [
    "# Import library yang dibutuhkan\n",
    "import pandas as pd\n",
    "import matplotlib.pyplot as plt\n"
   ]
  },
  {
   "cell_type": "markdown",
   "id": "b56e1f9a-4442-4c7a-86d8-64588bbfd47d",
   "metadata": {},
   "source": [
    "## Memuat Data dari File Excel\n",
    "\n",
    "Di sini, kita akan memuat data dari file Excel ke dalam DataFrame Pandas.\n"
   ]
  },
  {
   "cell_type": "code",
   "execution_count": null,
   "id": "dbe07538-34e6-4178-92c9-7f2236d00efd",
   "metadata": {},
   "outputs": [],
   "source": [
    "# Memuat data dari file Excel\n",
    "df = pd.read_excel('/mnt/data/data_contoh.xlsx')\n",
    "df\n"
   ]
  },
  {
   "cell_type": "markdown",
   "id": "463b8fc6-fa28-4bf9-836a-0d3ca0a6e313",
   "metadata": {},
   "source": [
    "## Membuat Grafik Batang\n",
    "\n",
    "Kami akan menggunakan Matplotlib untuk membuat grafik batang dari data yang telah kami muat.\n"
   ]
  },
  {
   "cell_type": "code",
   "execution_count": null,
   "id": "304c25ed-e0cc-451d-8644-c09154c0e053",
   "metadata": {},
   "outputs": [],
   "source": [
    "# Membuat grafik batang\n",
    "plt.figure(figsize=(10, 6))\n",
    "plt.bar(df['Nama'], df['Nilai'], color='skyblue')\n",
    "plt.xlabel('Nama')\n",
    "plt.ylabel('Nilai')\n",
    "plt.title('Grafik Batang Nilai Siswa')\n",
    "plt.show()\n"
   ]
  },
  {
   "cell_type": "markdown",
   "id": "566610ef-e0ed-4274-b988-dea65bb20944",
   "metadata": {},
   "source": [
    "## Kesimpulan\n",
    "\n",
    "Kami telah memuat data dari file Excel dan memvisualisasikannya menggunakan grafik batang dengan Matplotlib. Visualisasi data adalah alat yang kuat untuk menganalisis dan memahami data.\n"
   ]
  },
  {
   "cell_type": "code",
   "execution_count": null,
   "id": "5b7d0814-c1b4-43af-9a64-202782942e3f",
   "metadata": {},
   "outputs": [],
   "source": []
  }
 ],
 "metadata": {
  "kernelspec": {
   "display_name": "Python 3 (ipykernel)",
   "language": "python",
   "name": "python3"
  },
  "language_info": {
   "codemirror_mode": {
    "name": "ipython",
    "version": 3
   },
   "file_extension": ".py",
   "mimetype": "text/x-python",
   "name": "python",
   "nbconvert_exporter": "python",
   "pygments_lexer": "ipython3",
   "version": "3.11.7"
  }
 },
 "nbformat": 4,
 "nbformat_minor": 5
}
